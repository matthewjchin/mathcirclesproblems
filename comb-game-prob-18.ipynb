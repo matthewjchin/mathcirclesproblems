{
 "cells": [
  {
   "cell_type": "code",
   "execution_count": null,
   "metadata": {},
   "outputs": [],
   "source": [
    "# Question 1.18\n",
    "x = 1 # initial number of cooked spaghetti strings \n",
    "y = 2020 # total number of cooked spaghetti strings\n",
    "z = 1 # iterator\n",
    "y += z # required to include the 2020th cooked spaghetti string\n",
    "\n",
    "# probability that cooked spaghetti string is looped with a string of the 2020 strings\n",
    "p = 1/2020 \n",
    "expec = 0 # total expectation\n",
    "sum = 0"
   ]
  },
  {
   "cell_type": "code",
   "execution_count": null,
   "metadata": {},
   "outputs": [],
   "source": [
    "for k in range (x, y, z):\n",
    "    expec += (p * x)\n",
    "    sum += x\n",
    "    x += 1"
   ]
  },
  {
   "cell_type": "code",
   "execution_count": 4,
   "metadata": {},
   "outputs": [
    {
     "output_type": "stream",
     "name": "stdout",
     "text": [
      "1010.5\n"
     ]
    }
   ],
   "source": [
    "# return the expectation\n",
    "print(expec) "
   ]
  },
  {
   "cell_type": "code",
   "execution_count": null,
   "metadata": {},
   "outputs": [],
   "source": []
  }
 ],
 "metadata": {
  "kernelspec": {
   "display_name": "Python 3",
   "language": "python",
   "name": "python3"
  },
  "language_info": {
   "codemirror_mode": {
    "name": "ipython",
    "version": 3
   },
   "file_extension": ".py",
   "mimetype": "text/x-python",
   "name": "python",
   "nbconvert_exporter": "python",
   "pygments_lexer": "ipython3",
   "version": "3.8.3-final"
  }
 },
 "nbformat": 4,
 "nbformat_minor": 4
}